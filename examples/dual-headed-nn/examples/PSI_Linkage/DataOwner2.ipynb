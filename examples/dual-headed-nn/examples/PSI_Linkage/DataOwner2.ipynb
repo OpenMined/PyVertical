{
 "cells": [
  {
   "cell_type": "markdown",
   "id": "narrative-liberty",
   "metadata": {},
   "source": [
    "# Data Owner 2"
   ]
  },
  {
   "cell_type": "markdown",
   "id": "thrown-replica",
   "metadata": {},
   "source": [
    "### Imports, load data from folders, instantiate Data Owner"
   ]
  },
  {
   "cell_type": "code",
   "execution_count": 3,
   "id": "received-branch",
   "metadata": {},
   "outputs": [],
   "source": [
    "import sys\n",
    "sys.path.append('../../src/')\n",
    "import psi\n",
    "from roles import DataOwner\n",
    "from psi import do_psi\n",
    "from psi.do_psi import PsiProtocolDO\n",
    "from psi.do_psi import DOPsiStar\n",
    "from datasets import SampleSetPointer"
   ]
  },
  {
   "cell_type": "code",
   "execution_count": 4,
   "id": "transparent-tampa",
   "metadata": {
    "scrolled": false
   },
   "outputs": [],
   "source": [
    "#change with \"data_file\" or your own folder when working with a complete set of data\n",
    "do = DataOwner(data_dir=\"data_file_subset/2nd_owner\", index_dir=\"data_file_subset/indexlist\", name=\"do2\")"
   ]
  },
  {
   "cell_type": "code",
   "execution_count": null,
   "id": "partial-sussex",
   "metadata": {},
   "outputs": [],
   "source": [
    "do.connect_to_duet()"
   ]
  },
  {
   "cell_type": "code",
   "execution_count": 2,
   "id": "flying-paradise",
   "metadata": {},
   "outputs": [
    {
     "data": {
      "text/html": [
       "<div>\n",
       "<style scoped>\n",
       "    .dataframe tbody tr th:only-of-type {\n",
       "        vertical-align: middle;\n",
       "    }\n",
       "\n",
       "    .dataframe tbody tr th {\n",
       "        vertical-align: top;\n",
       "    }\n",
       "\n",
       "    .dataframe thead th {\n",
       "        text-align: right;\n",
       "    }\n",
       "</style>\n",
       "<table border=\"1\" class=\"dataframe\">\n",
       "  <thead>\n",
       "    <tr style=\"text-align: right;\">\n",
       "      <th></th>\n",
       "      <th>ID</th>\n",
       "      <th>Tags</th>\n",
       "      <th>Description</th>\n",
       "      <th>object_type</th>\n",
       "    </tr>\n",
       "  </thead>\n",
       "  <tbody>\n",
       "    <tr>\n",
       "      <th>0</th>\n",
       "      <td>&lt;UID: 0e888d4e92524602b9b49980d1fccfec&gt;</td>\n",
       "      <td>[reveal_intersection]</td>\n",
       "      <td></td>\n",
       "      <td>&lt;class 'syft.lib.python.Bool'&gt;</td>\n",
       "    </tr>\n",
       "    <tr>\n",
       "      <th>1</th>\n",
       "      <td>&lt;UID: 2c14ee61a4a54ec2905440922dc371b0&gt;</td>\n",
       "      <td>[fpr]</td>\n",
       "      <td></td>\n",
       "      <td>&lt;class 'syft.lib.python.Float'&gt;</td>\n",
       "    </tr>\n",
       "  </tbody>\n",
       "</table>\n",
       "</div>"
      ],
      "text/plain": [
       "                                        ID                   Tags Description  \\\n",
       "0  <UID: 0e888d4e92524602b9b49980d1fccfec>  [reveal_intersection]               \n",
       "1  <UID: 2c14ee61a4a54ec2905440922dc371b0>                  [fpr]               \n",
       "\n",
       "                       object_type  \n",
       "0   <class 'syft.lib.python.Bool'>  \n",
       "1  <class 'syft.lib.python.Float'>  "
      ]
     },
     "execution_count": 2,
     "metadata": {},
     "output_type": "execute_result"
    }
   ],
   "source": [
    "do.set_protocol(DOPsiStar)\n",
    "do.duet.store.pandas"
   ]
  },
  {
   "cell_type": "code",
   "execution_count": 3,
   "id": "unknown-shaft",
   "metadata": {},
   "outputs": [
    {
     "data": {
      "text/html": [
       "<div>\n",
       "<style scoped>\n",
       "    .dataframe tbody tr th:only-of-type {\n",
       "        vertical-align: middle;\n",
       "    }\n",
       "\n",
       "    .dataframe tbody tr th {\n",
       "        vertical-align: top;\n",
       "    }\n",
       "\n",
       "    .dataframe thead th {\n",
       "        text-align: right;\n",
       "    }\n",
       "</style>\n",
       "<table border=\"1\" class=\"dataframe\">\n",
       "  <thead>\n",
       "    <tr style=\"text-align: right;\">\n",
       "      <th></th>\n",
       "      <th>ID</th>\n",
       "      <th>Tags</th>\n",
       "      <th>Description</th>\n",
       "      <th>object_type</th>\n",
       "    </tr>\n",
       "  </thead>\n",
       "  <tbody>\n",
       "    <tr>\n",
       "      <th>0</th>\n",
       "      <td>&lt;UID: 129a6fcfecf343bf8eaa83a18812720e&gt;</td>\n",
       "      <td>[client_items_len]</td>\n",
       "      <td>client items length</td>\n",
       "      <td>&lt;class 'syft.lib.python.Int'&gt;</td>\n",
       "    </tr>\n",
       "  </tbody>\n",
       "</table>\n",
       "</div>"
      ],
      "text/plain": [
       "                                        ID                Tags  \\\n",
       "0  <UID: 129a6fcfecf343bf8eaa83a18812720e>  [client_items_len]   \n",
       "\n",
       "           Description                    object_type  \n",
       "0  client items length  <class 'syft.lib.python.Int'>  "
      ]
     },
     "execution_count": 3,
     "metadata": {},
     "output_type": "execute_result"
    }
   ],
   "source": [
    "#DS should have set the protocol now, let's check\n",
    "do.duet.store.pandas"
   ]
  },
  {
   "cell_type": "code",
   "execution_count": 4,
   "id": "owned-license",
   "metadata": {},
   "outputs": [],
   "source": [
    "#let's send the setup message\n",
    "do.protocol.psi_setup()"
   ]
  },
  {
   "cell_type": "code",
   "execution_count": 5,
   "id": "intense-sheet",
   "metadata": {},
   "outputs": [
    {
     "data": {
      "text/html": [
       "<div>\n",
       "<style scoped>\n",
       "    .dataframe tbody tr th:only-of-type {\n",
       "        vertical-align: middle;\n",
       "    }\n",
       "\n",
       "    .dataframe tbody tr th {\n",
       "        vertical-align: top;\n",
       "    }\n",
       "\n",
       "    .dataframe thead th {\n",
       "        text-align: right;\n",
       "    }\n",
       "</style>\n",
       "<table border=\"1\" class=\"dataframe\">\n",
       "  <thead>\n",
       "    <tr style=\"text-align: right;\">\n",
       "      <th></th>\n",
       "      <th>ID</th>\n",
       "      <th>Tags</th>\n",
       "      <th>Description</th>\n",
       "      <th>object_type</th>\n",
       "    </tr>\n",
       "  </thead>\n",
       "  <tbody>\n",
       "    <tr>\n",
       "      <th>0</th>\n",
       "      <td>&lt;UID: a2480b83fe98433cb9d6ba644b82705f&gt;</td>\n",
       "      <td>[client_items_len]</td>\n",
       "      <td>client items length</td>\n",
       "      <td>&lt;class 'syft.lib.python.Int'&gt;</td>\n",
       "    </tr>\n",
       "    <tr>\n",
       "      <th>1</th>\n",
       "      <td>&lt;UID: 5a6ea508bb024c5bb814fd5adafb4ed1&gt;</td>\n",
       "      <td>[request]</td>\n",
       "      <td>client request</td>\n",
       "      <td>&lt;class 'private_set_intersection.proto.psi_pb2...</td>\n",
       "    </tr>\n",
       "  </tbody>\n",
       "</table>\n",
       "</div>"
      ],
      "text/plain": [
       "                                        ID                Tags  \\\n",
       "0  <UID: a2480b83fe98433cb9d6ba644b82705f>  [client_items_len]   \n",
       "1  <UID: 5a6ea508bb024c5bb814fd5adafb4ed1>           [request]   \n",
       "\n",
       "           Description                                        object_type  \n",
       "0  client items length                      <class 'syft.lib.python.Int'>  \n",
       "1       client request  <class 'private_set_intersection.proto.psi_pb2...  "
      ]
     },
     "execution_count": 5,
     "metadata": {},
     "output_type": "execute_result"
    }
   ],
   "source": [
    "#let's fetch the request from the client \n",
    "do.duet.store.pandas"
   ]
  },
  {
   "cell_type": "code",
   "execution_count": 5,
   "id": "vocal-carter",
   "metadata": {},
   "outputs": [],
   "source": [
    "#fetch the request from the client and send the response\n",
    "do.protocol.psi_response()"
   ]
  },
  {
   "cell_type": "code",
   "execution_count": 6,
   "id": "solar-change",
   "metadata": {},
   "outputs": [
    {
     "data": {
      "text/html": [
       "<div>\n",
       "<style scoped>\n",
       "    .dataframe tbody tr th:only-of-type {\n",
       "        vertical-align: middle;\n",
       "    }\n",
       "\n",
       "    .dataframe tbody tr th {\n",
       "        vertical-align: top;\n",
       "    }\n",
       "\n",
       "    .dataframe thead th {\n",
       "        text-align: right;\n",
       "    }\n",
       "</style>\n",
       "<table border=\"1\" class=\"dataframe\">\n",
       "  <thead>\n",
       "    <tr style=\"text-align: right;\">\n",
       "      <th></th>\n",
       "      <th>ID</th>\n",
       "      <th>Tags</th>\n",
       "      <th>Description</th>\n",
       "      <th>object_type</th>\n",
       "    </tr>\n",
       "  </thead>\n",
       "  <tbody>\n",
       "    <tr>\n",
       "      <th>0</th>\n",
       "      <td>&lt;UID: 129a6fcfecf343bf8eaa83a18812720e&gt;</td>\n",
       "      <td>[client_items_len]</td>\n",
       "      <td>client items length</td>\n",
       "      <td>&lt;class 'syft.lib.python.Int'&gt;</td>\n",
       "    </tr>\n",
       "    <tr>\n",
       "      <th>1</th>\n",
       "      <td>&lt;UID: 62ebaf9b70ec45008d940e7a62cf589f&gt;</td>\n",
       "      <td>[request]</td>\n",
       "      <td>client request</td>\n",
       "      <td>&lt;class 'private_set_intersection.proto.psi_pb2...</td>\n",
       "    </tr>\n",
       "    <tr>\n",
       "      <th>2</th>\n",
       "      <td>&lt;UID: b9a5c6bc07934f2f8906bd0c2d19de9e&gt;</td>\n",
       "      <td>[ids_intersec]</td>\n",
       "      <td>intersection ids</td>\n",
       "      <td>&lt;class 'torch.Tensor'&gt;</td>\n",
       "    </tr>\n",
       "  </tbody>\n",
       "</table>\n",
       "</div>"
      ],
      "text/plain": [
       "                                        ID                Tags  \\\n",
       "0  <UID: 129a6fcfecf343bf8eaa83a18812720e>  [client_items_len]   \n",
       "1  <UID: 62ebaf9b70ec45008d940e7a62cf589f>           [request]   \n",
       "2  <UID: b9a5c6bc07934f2f8906bd0c2d19de9e>      [ids_intersec]   \n",
       "\n",
       "           Description                                        object_type  \n",
       "0  client items length                      <class 'syft.lib.python.Int'>  \n",
       "1       client request  <class 'private_set_intersection.proto.psi_pb2...  \n",
       "2     intersection ids                             <class 'torch.Tensor'>  "
      ]
     },
     "execution_count": 6,
     "metadata": {},
     "output_type": "execute_result"
    }
   ],
   "source": [
    "#let's see if the data scientist sent us the intersection ids\n",
    "do.duet.store.pandas"
   ]
  },
  {
   "cell_type": "code",
   "execution_count": 7,
   "id": "continuing-savage",
   "metadata": {},
   "outputs": [],
   "source": [
    "id_int_list = do.protocol.retrieve_intersection()"
   ]
  },
  {
   "cell_type": "code",
   "execution_count": 8,
   "id": "large-sheffield",
   "metadata": {},
   "outputs": [
    {
     "data": {
      "text/plain": [
       "[0, 1, 2, 3, 4, 5, 6, 7, 8, 9]"
      ]
     },
     "execution_count": 8,
     "metadata": {},
     "output_type": "execute_result"
    }
   ],
   "source": [
    "id_int_list[0:10]"
   ]
  },
  {
   "cell_type": "code",
   "execution_count": 9,
   "id": "legitimate-jamaica",
   "metadata": {},
   "outputs": [],
   "source": [
    "do.protocol.share_all_values()"
   ]
  },
  {
   "cell_type": "code",
   "execution_count": null,
   "id": "certain-april",
   "metadata": {},
   "outputs": [],
   "source": []
  }
 ],
 "metadata": {
  "kernelspec": {
   "display_name": "Python 3",
   "language": "python",
   "name": "python3"
  },
  "language_info": {
   "codemirror_mode": {
    "name": "ipython",
    "version": 3
   },
   "file_extension": ".py",
   "mimetype": "text/x-python",
   "name": "python",
   "nbconvert_exporter": "python",
   "pygments_lexer": "ipython3",
   "version": "3.6.9"
  }
 },
 "nbformat": 4,
 "nbformat_minor": 5
}
